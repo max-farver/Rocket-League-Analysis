{
 "cells": [
  {
   "cell_type": "code",
   "execution_count": 54,
   "metadata": {},
   "outputs": [],
   "source": [
    "import os\n",
    "import pandas as pd\n",
    "import numpy as np\n",
    "\n",
    "from sklearn.ensemble import RandomForestClassifier\n",
    "from xgboost import XGBClassifier, plot_importance\n",
    "from sklearn.svm import SVC\n",
    "from sklearn.svm import LinearSVC\n",
    "from sklearn.neighbors import KNeighborsClassifier\n",
    "from sklearn.linear_model import LogisticRegression\n",
    "\n",
    "from sklearn.model_selection import train_test_split, cross_val_score, cross_val_predict\n",
    "from sklearn.metrics import accuracy_score, r2_score\n",
    "\n",
    "from sklearn.preprocessing import StandardScaler\n",
    "\n",
    "from keras.models import load_model\n",
    "\n",
    "import seaborn as sns; sns.set()\n",
    "import matplotlib.pyplot as plt\n",
    "\n",
    "%matplotlib inline\n",
    "\n",
    "pd.options.display.max_columns = None"
   ]
  },
  {
   "cell_type": "code",
   "execution_count": 33,
   "metadata": {},
   "outputs": [],
   "source": [
    "df_stat_ML = pd.read_hdf('champ_clean_not_scaled.h5')\n",
    "df_stat_ML = df_stat_ML.drop(['game_id', 'team', 'goals', 'game_duration_diff', \n",
    "                              'goals_diff', 'assists_diff', 'shots_diff', 'saves_diff', \n",
    "                              'assists', 'score_diff', 'demos_taken_diff'], axis=1)\n",
    "y = df_stat_ML['win']\n",
    "X = df_stat_ML.drop('win', axis=1)"
   ]
  },
  {
   "cell_type": "code",
   "execution_count": 34,
   "metadata": {},
   "outputs": [
    {
     "data": {
      "text/html": [
       "<div>\n",
       "<style scoped>\n",
       "    .dataframe tbody tr th:only-of-type {\n",
       "        vertical-align: middle;\n",
       "    }\n",
       "\n",
       "    .dataframe tbody tr th {\n",
       "        vertical-align: top;\n",
       "    }\n",
       "\n",
       "    .dataframe thead th {\n",
       "        text-align: right;\n",
       "    }\n",
       "</style>\n",
       "<table border=\"1\" class=\"dataframe\">\n",
       "  <thead>\n",
       "    <tr style=\"text-align: right;\">\n",
       "      <th></th>\n",
       "      <th>game_duration</th>\n",
       "      <th>score</th>\n",
       "      <th>saves</th>\n",
       "      <th>shots</th>\n",
       "      <th>bpm</th>\n",
       "      <th>amount_collected</th>\n",
       "      <th>amount_collected_big_pads</th>\n",
       "      <th>amount_collected_small_pads</th>\n",
       "      <th>count_collected_big_pads</th>\n",
       "      <th>count_collected_small_pads</th>\n",
       "      <th>amount_stolen</th>\n",
       "      <th>amount_stolen_big_pads</th>\n",
       "      <th>amount_stolen_small_pads</th>\n",
       "      <th>count_stolen_big_pads</th>\n",
       "      <th>count_stolen_small_pads</th>\n",
       "      <th>0_boost_time</th>\n",
       "      <th>avg_speed</th>\n",
       "      <th>total_distance</th>\n",
       "      <th>time_slow_speed</th>\n",
       "      <th>time_boost_speed</th>\n",
       "      <th>time_supersonic_speed</th>\n",
       "      <th>time_on_ground</th>\n",
       "      <th>time_low_in_air</th>\n",
       "      <th>time_high_in_air</th>\n",
       "      <th>avg_distance_to_ball</th>\n",
       "      <th>avg_distance_to_ball_has_possession</th>\n",
       "      <th>avg_distance_to_ball_no_possession</th>\n",
       "      <th>time_behind_ball</th>\n",
       "      <th>time_in_front_of_ball</th>\n",
       "      <th>time_defensive_half</th>\n",
       "      <th>time_offensive_half</th>\n",
       "      <th>time_defensive_third</th>\n",
       "      <th>time_neutral_third</th>\n",
       "      <th>time_offensive_third</th>\n",
       "      <th>demos_inflicted</th>\n",
       "      <th>demos_taken</th>\n",
       "      <th>bpm_diff</th>\n",
       "      <th>amount_collected_diff</th>\n",
       "      <th>amount_collected_big_pads_diff</th>\n",
       "      <th>amount_collected_small_pads_diff</th>\n",
       "      <th>count_collected_big_pads_diff</th>\n",
       "      <th>count_collected_small_pads_diff</th>\n",
       "      <th>amount_stolen_diff</th>\n",
       "      <th>amount_stolen_big_pads_diff</th>\n",
       "      <th>amount_stolen_small_pads_diff</th>\n",
       "      <th>count_stolen_big_pads_diff</th>\n",
       "      <th>count_stolen_small_pads_diff</th>\n",
       "      <th>0_boost_time_diff</th>\n",
       "      <th>avg_speed_diff</th>\n",
       "      <th>total_distance_diff</th>\n",
       "      <th>time_slow_speed_diff</th>\n",
       "      <th>time_boost_speed_diff</th>\n",
       "      <th>time_supersonic_speed_diff</th>\n",
       "      <th>time_on_ground_diff</th>\n",
       "      <th>time_low_in_air_diff</th>\n",
       "      <th>time_high_in_air_diff</th>\n",
       "      <th>avg_distance_to_ball_diff</th>\n",
       "      <th>avg_distance_to_ball_has_possession_diff</th>\n",
       "      <th>avg_distance_to_ball_no_possession_diff</th>\n",
       "      <th>time_behind_ball_diff</th>\n",
       "      <th>time_in_front_of_ball_diff</th>\n",
       "      <th>time_defensive_half_diff</th>\n",
       "      <th>time_offensive_half_diff</th>\n",
       "      <th>time_defensive_third_diff</th>\n",
       "      <th>time_neutral_third_diff</th>\n",
       "      <th>time_offensive_third_diff</th>\n",
       "      <th>demos_inflicted_diff</th>\n",
       "    </tr>\n",
       "  </thead>\n",
       "  <tbody>\n",
       "    <tr>\n",
       "      <th>0</th>\n",
       "      <td>458.0</td>\n",
       "      <td>554.000000</td>\n",
       "      <td>0.333333</td>\n",
       "      <td>4.000000</td>\n",
       "      <td>407.000000</td>\n",
       "      <td>2594.333333</td>\n",
       "      <td>1275.666667</td>\n",
       "      <td>1318.666667</td>\n",
       "      <td>29.000000</td>\n",
       "      <td>50.000000</td>\n",
       "      <td>554.000000</td>\n",
       "      <td>183.000000</td>\n",
       "      <td>371.000000</td>\n",
       "      <td>4.000000</td>\n",
       "      <td>12.000000</td>\n",
       "      <td>43.680000</td>\n",
       "      <td>1569.000000</td>\n",
       "      <td>562555.666667</td>\n",
       "      <td>172.870000</td>\n",
       "      <td>171.836667</td>\n",
       "      <td>55.246667</td>\n",
       "      <td>226.233333</td>\n",
       "      <td>156.923333</td>\n",
       "      <td>16.796667</td>\n",
       "      <td>3227.000000</td>\n",
       "      <td>3160.333333</td>\n",
       "      <td>3349.666667</td>\n",
       "      <td>299.103333</td>\n",
       "      <td>100.85</td>\n",
       "      <td>249.120000</td>\n",
       "      <td>150.833333</td>\n",
       "      <td>176.430000</td>\n",
       "      <td>128.640000</td>\n",
       "      <td>94.883333</td>\n",
       "      <td>0.333333</td>\n",
       "      <td>0.333333</td>\n",
       "      <td>76.666667</td>\n",
       "      <td>355.000000</td>\n",
       "      <td>423.666667</td>\n",
       "      <td>-68.666667</td>\n",
       "      <td>7.333333</td>\n",
       "      <td>-6.0</td>\n",
       "      <td>-232.333333</td>\n",
       "      <td>-42.666667</td>\n",
       "      <td>-189.666667</td>\n",
       "      <td>-2.333333</td>\n",
       "      <td>-8.666667</td>\n",
       "      <td>1.760000</td>\n",
       "      <td>122.333333</td>\n",
       "      <td>43895.666667</td>\n",
       "      <td>-38.663333</td>\n",
       "      <td>17.256667</td>\n",
       "      <td>21.443333</td>\n",
       "      <td>-18.923333</td>\n",
       "      <td>12.983333</td>\n",
       "      <td>5.976667</td>\n",
       "      <td>269.0</td>\n",
       "      <td>125.666667</td>\n",
       "      <td>469.333333</td>\n",
       "      <td>23.036667</td>\n",
       "      <td>-23.000000</td>\n",
       "      <td>-43.770000</td>\n",
       "      <td>43.810000</td>\n",
       "      <td>-45.39</td>\n",
       "      <td>0.35</td>\n",
       "      <td>45.073333</td>\n",
       "      <td>0.0</td>\n",
       "    </tr>\n",
       "    <tr>\n",
       "      <th>1</th>\n",
       "      <td>458.0</td>\n",
       "      <td>330.333333</td>\n",
       "      <td>1.333333</td>\n",
       "      <td>1.333333</td>\n",
       "      <td>330.333333</td>\n",
       "      <td>2239.333333</td>\n",
       "      <td>852.000000</td>\n",
       "      <td>1387.333333</td>\n",
       "      <td>21.666667</td>\n",
       "      <td>56.000000</td>\n",
       "      <td>786.333333</td>\n",
       "      <td>225.666667</td>\n",
       "      <td>560.666667</td>\n",
       "      <td>6.333333</td>\n",
       "      <td>20.666667</td>\n",
       "      <td>41.920000</td>\n",
       "      <td>1446.666667</td>\n",
       "      <td>518660.000000</td>\n",
       "      <td>211.533333</td>\n",
       "      <td>154.580000</td>\n",
       "      <td>33.803333</td>\n",
       "      <td>245.156667</td>\n",
       "      <td>143.940000</td>\n",
       "      <td>10.820000</td>\n",
       "      <td>2958.000000</td>\n",
       "      <td>3034.666667</td>\n",
       "      <td>2880.333333</td>\n",
       "      <td>276.066667</td>\n",
       "      <td>123.85</td>\n",
       "      <td>292.890000</td>\n",
       "      <td>107.023333</td>\n",
       "      <td>221.820000</td>\n",
       "      <td>128.290000</td>\n",
       "      <td>49.810000</td>\n",
       "      <td>0.333333</td>\n",
       "      <td>0.333333</td>\n",
       "      <td>-76.666667</td>\n",
       "      <td>-355.000000</td>\n",
       "      <td>-423.666667</td>\n",
       "      <td>68.666667</td>\n",
       "      <td>-7.333333</td>\n",
       "      <td>6.0</td>\n",
       "      <td>232.333333</td>\n",
       "      <td>42.666667</td>\n",
       "      <td>189.666667</td>\n",
       "      <td>2.333333</td>\n",
       "      <td>8.666667</td>\n",
       "      <td>-1.760000</td>\n",
       "      <td>-122.333333</td>\n",
       "      <td>-43895.666667</td>\n",
       "      <td>38.663333</td>\n",
       "      <td>-17.256667</td>\n",
       "      <td>-21.443333</td>\n",
       "      <td>18.923333</td>\n",
       "      <td>-12.983333</td>\n",
       "      <td>-5.976667</td>\n",
       "      <td>-269.0</td>\n",
       "      <td>-125.666667</td>\n",
       "      <td>-469.333333</td>\n",
       "      <td>-23.036667</td>\n",
       "      <td>23.000000</td>\n",
       "      <td>43.770000</td>\n",
       "      <td>-43.810000</td>\n",
       "      <td>45.39</td>\n",
       "      <td>-0.35</td>\n",
       "      <td>-45.073333</td>\n",
       "      <td>0.0</td>\n",
       "    </tr>\n",
       "    <tr>\n",
       "      <th>2</th>\n",
       "      <td>393.0</td>\n",
       "      <td>293.000000</td>\n",
       "      <td>2.000000</td>\n",
       "      <td>1.333333</td>\n",
       "      <td>414.333333</td>\n",
       "      <td>2271.333333</td>\n",
       "      <td>1150.000000</td>\n",
       "      <td>1121.333333</td>\n",
       "      <td>16.666667</td>\n",
       "      <td>49.666667</td>\n",
       "      <td>456.333333</td>\n",
       "      <td>134.666667</td>\n",
       "      <td>321.666667</td>\n",
       "      <td>2.000000</td>\n",
       "      <td>13.666667</td>\n",
       "      <td>52.833333</td>\n",
       "      <td>1508.666667</td>\n",
       "      <td>468653.666667</td>\n",
       "      <td>163.346667</td>\n",
       "      <td>126.136667</td>\n",
       "      <td>46.946667</td>\n",
       "      <td>204.176667</td>\n",
       "      <td>123.816667</td>\n",
       "      <td>8.433333</td>\n",
       "      <td>2443.666667</td>\n",
       "      <td>2244.000000</td>\n",
       "      <td>2568.666667</td>\n",
       "      <td>221.570000</td>\n",
       "      <td>114.86</td>\n",
       "      <td>209.313333</td>\n",
       "      <td>127.120000</td>\n",
       "      <td>158.243333</td>\n",
       "      <td>99.946667</td>\n",
       "      <td>78.240000</td>\n",
       "      <td>0.333333</td>\n",
       "      <td>0.333333</td>\n",
       "      <td>117.666667</td>\n",
       "      <td>635.666667</td>\n",
       "      <td>112.333333</td>\n",
       "      <td>523.333333</td>\n",
       "      <td>2.000000</td>\n",
       "      <td>16.0</td>\n",
       "      <td>132.333333</td>\n",
       "      <td>8.333333</td>\n",
       "      <td>124.000000</td>\n",
       "      <td>-1.000000</td>\n",
       "      <td>3.666667</td>\n",
       "      <td>18.090000</td>\n",
       "      <td>157.666667</td>\n",
       "      <td>54258.000000</td>\n",
       "      <td>-42.186667</td>\n",
       "      <td>17.320000</td>\n",
       "      <td>24.766667</td>\n",
       "      <td>-14.363333</td>\n",
       "      <td>16.350000</td>\n",
       "      <td>-2.093333</td>\n",
       "      <td>-479.0</td>\n",
       "      <td>-833.333333</td>\n",
       "      <td>-97.333333</td>\n",
       "      <td>-25.236667</td>\n",
       "      <td>25.130000</td>\n",
       "      <td>-18.726667</td>\n",
       "      <td>18.626667</td>\n",
       "      <td>-15.15</td>\n",
       "      <td>1.69</td>\n",
       "      <td>13.350000</td>\n",
       "      <td>0.0</td>\n",
       "    </tr>\n",
       "    <tr>\n",
       "      <th>3</th>\n",
       "      <td>393.0</td>\n",
       "      <td>510.333333</td>\n",
       "      <td>0.333333</td>\n",
       "      <td>4.666667</td>\n",
       "      <td>296.666667</td>\n",
       "      <td>1635.666667</td>\n",
       "      <td>1037.666667</td>\n",
       "      <td>598.000000</td>\n",
       "      <td>14.666667</td>\n",
       "      <td>33.666667</td>\n",
       "      <td>324.000000</td>\n",
       "      <td>126.333333</td>\n",
       "      <td>197.666667</td>\n",
       "      <td>3.000000</td>\n",
       "      <td>10.000000</td>\n",
       "      <td>34.743333</td>\n",
       "      <td>1351.000000</td>\n",
       "      <td>414395.666667</td>\n",
       "      <td>205.533333</td>\n",
       "      <td>108.816667</td>\n",
       "      <td>22.180000</td>\n",
       "      <td>218.540000</td>\n",
       "      <td>107.466667</td>\n",
       "      <td>10.526667</td>\n",
       "      <td>2922.666667</td>\n",
       "      <td>3077.333333</td>\n",
       "      <td>2666.000000</td>\n",
       "      <td>246.806667</td>\n",
       "      <td>89.73</td>\n",
       "      <td>228.040000</td>\n",
       "      <td>108.493333</td>\n",
       "      <td>173.393333</td>\n",
       "      <td>98.256667</td>\n",
       "      <td>64.890000</td>\n",
       "      <td>0.333333</td>\n",
       "      <td>0.333333</td>\n",
       "      <td>-117.666667</td>\n",
       "      <td>-635.666667</td>\n",
       "      <td>-112.333333</td>\n",
       "      <td>-523.333333</td>\n",
       "      <td>-2.000000</td>\n",
       "      <td>-16.0</td>\n",
       "      <td>-132.333333</td>\n",
       "      <td>-8.333333</td>\n",
       "      <td>-124.000000</td>\n",
       "      <td>1.000000</td>\n",
       "      <td>-3.666667</td>\n",
       "      <td>-18.090000</td>\n",
       "      <td>-157.666667</td>\n",
       "      <td>-54258.000000</td>\n",
       "      <td>42.186667</td>\n",
       "      <td>-17.320000</td>\n",
       "      <td>-24.766667</td>\n",
       "      <td>14.363333</td>\n",
       "      <td>-16.350000</td>\n",
       "      <td>2.093333</td>\n",
       "      <td>479.0</td>\n",
       "      <td>833.333333</td>\n",
       "      <td>97.333333</td>\n",
       "      <td>25.236667</td>\n",
       "      <td>-25.130000</td>\n",
       "      <td>18.726667</td>\n",
       "      <td>-18.626667</td>\n",
       "      <td>15.15</td>\n",
       "      <td>-1.69</td>\n",
       "      <td>-13.350000</td>\n",
       "      <td>0.0</td>\n",
       "    </tr>\n",
       "    <tr>\n",
       "      <th>4</th>\n",
       "      <td>304.0</td>\n",
       "      <td>198.333333</td>\n",
       "      <td>1.333333</td>\n",
       "      <td>1.000000</td>\n",
       "      <td>329.333333</td>\n",
       "      <td>1603.000000</td>\n",
       "      <td>872.333333</td>\n",
       "      <td>730.666667</td>\n",
       "      <td>13.333333</td>\n",
       "      <td>43.666667</td>\n",
       "      <td>321.333333</td>\n",
       "      <td>128.333333</td>\n",
       "      <td>193.000000</td>\n",
       "      <td>2.333333</td>\n",
       "      <td>10.333333</td>\n",
       "      <td>7.583333</td>\n",
       "      <td>1452.333333</td>\n",
       "      <td>393542.333333</td>\n",
       "      <td>144.316667</td>\n",
       "      <td>109.583333</td>\n",
       "      <td>28.770000</td>\n",
       "      <td>163.063333</td>\n",
       "      <td>106.376667</td>\n",
       "      <td>13.226667</td>\n",
       "      <td>2704.666667</td>\n",
       "      <td>2531.333333</td>\n",
       "      <td>2888.666667</td>\n",
       "      <td>192.236667</td>\n",
       "      <td>90.43</td>\n",
       "      <td>194.620000</td>\n",
       "      <td>88.046667</td>\n",
       "      <td>145.150000</td>\n",
       "      <td>89.620000</td>\n",
       "      <td>47.893333</td>\n",
       "      <td>0.000000</td>\n",
       "      <td>1.000000</td>\n",
       "      <td>12.000000</td>\n",
       "      <td>81.666667</td>\n",
       "      <td>9.000000</td>\n",
       "      <td>72.666667</td>\n",
       "      <td>1.000000</td>\n",
       "      <td>3.0</td>\n",
       "      <td>-53.000000</td>\n",
       "      <td>-47.000000</td>\n",
       "      <td>-6.000000</td>\n",
       "      <td>0.333333</td>\n",
       "      <td>-1.333333</td>\n",
       "      <td>-20.193333</td>\n",
       "      <td>-10.000000</td>\n",
       "      <td>-7954.666667</td>\n",
       "      <td>3.176667</td>\n",
       "      <td>-12.953333</td>\n",
       "      <td>6.370000</td>\n",
       "      <td>-6.830000</td>\n",
       "      <td>-0.410000</td>\n",
       "      <td>3.826667</td>\n",
       "      <td>40.0</td>\n",
       "      <td>-43.333333</td>\n",
       "      <td>133.666667</td>\n",
       "      <td>-32.450000</td>\n",
       "      <td>29.043333</td>\n",
       "      <td>21.250000</td>\n",
       "      <td>-24.660000</td>\n",
       "      <td>22.73</td>\n",
       "      <td>-13.25</td>\n",
       "      <td>-12.890000</td>\n",
       "      <td>-1.0</td>\n",
       "    </tr>\n",
       "  </tbody>\n",
       "</table>\n",
       "</div>"
      ],
      "text/plain": [
       "   game_duration       score     saves     shots         bpm  \\\n",
       "0          458.0  554.000000  0.333333  4.000000  407.000000   \n",
       "1          458.0  330.333333  1.333333  1.333333  330.333333   \n",
       "2          393.0  293.000000  2.000000  1.333333  414.333333   \n",
       "3          393.0  510.333333  0.333333  4.666667  296.666667   \n",
       "4          304.0  198.333333  1.333333  1.000000  329.333333   \n",
       "\n",
       "   amount_collected  amount_collected_big_pads  amount_collected_small_pads  \\\n",
       "0       2594.333333                1275.666667                  1318.666667   \n",
       "1       2239.333333                 852.000000                  1387.333333   \n",
       "2       2271.333333                1150.000000                  1121.333333   \n",
       "3       1635.666667                1037.666667                   598.000000   \n",
       "4       1603.000000                 872.333333                   730.666667   \n",
       "\n",
       "   count_collected_big_pads  count_collected_small_pads  amount_stolen  \\\n",
       "0                 29.000000                   50.000000     554.000000   \n",
       "1                 21.666667                   56.000000     786.333333   \n",
       "2                 16.666667                   49.666667     456.333333   \n",
       "3                 14.666667                   33.666667     324.000000   \n",
       "4                 13.333333                   43.666667     321.333333   \n",
       "\n",
       "   amount_stolen_big_pads  amount_stolen_small_pads  count_stolen_big_pads  \\\n",
       "0              183.000000                371.000000               4.000000   \n",
       "1              225.666667                560.666667               6.333333   \n",
       "2              134.666667                321.666667               2.000000   \n",
       "3              126.333333                197.666667               3.000000   \n",
       "4              128.333333                193.000000               2.333333   \n",
       "\n",
       "   count_stolen_small_pads  0_boost_time    avg_speed  total_distance  \\\n",
       "0                12.000000     43.680000  1569.000000   562555.666667   \n",
       "1                20.666667     41.920000  1446.666667   518660.000000   \n",
       "2                13.666667     52.833333  1508.666667   468653.666667   \n",
       "3                10.000000     34.743333  1351.000000   414395.666667   \n",
       "4                10.333333      7.583333  1452.333333   393542.333333   \n",
       "\n",
       "   time_slow_speed  time_boost_speed  time_supersonic_speed  time_on_ground  \\\n",
       "0       172.870000        171.836667              55.246667      226.233333   \n",
       "1       211.533333        154.580000              33.803333      245.156667   \n",
       "2       163.346667        126.136667              46.946667      204.176667   \n",
       "3       205.533333        108.816667              22.180000      218.540000   \n",
       "4       144.316667        109.583333              28.770000      163.063333   \n",
       "\n",
       "   time_low_in_air  time_high_in_air  avg_distance_to_ball  \\\n",
       "0       156.923333         16.796667           3227.000000   \n",
       "1       143.940000         10.820000           2958.000000   \n",
       "2       123.816667          8.433333           2443.666667   \n",
       "3       107.466667         10.526667           2922.666667   \n",
       "4       106.376667         13.226667           2704.666667   \n",
       "\n",
       "   avg_distance_to_ball_has_possession  avg_distance_to_ball_no_possession  \\\n",
       "0                          3160.333333                         3349.666667   \n",
       "1                          3034.666667                         2880.333333   \n",
       "2                          2244.000000                         2568.666667   \n",
       "3                          3077.333333                         2666.000000   \n",
       "4                          2531.333333                         2888.666667   \n",
       "\n",
       "   time_behind_ball  time_in_front_of_ball  time_defensive_half  \\\n",
       "0        299.103333                 100.85           249.120000   \n",
       "1        276.066667                 123.85           292.890000   \n",
       "2        221.570000                 114.86           209.313333   \n",
       "3        246.806667                  89.73           228.040000   \n",
       "4        192.236667                  90.43           194.620000   \n",
       "\n",
       "   time_offensive_half  time_defensive_third  time_neutral_third  \\\n",
       "0           150.833333            176.430000          128.640000   \n",
       "1           107.023333            221.820000          128.290000   \n",
       "2           127.120000            158.243333           99.946667   \n",
       "3           108.493333            173.393333           98.256667   \n",
       "4            88.046667            145.150000           89.620000   \n",
       "\n",
       "   time_offensive_third  demos_inflicted  demos_taken    bpm_diff  \\\n",
       "0             94.883333         0.333333     0.333333   76.666667   \n",
       "1             49.810000         0.333333     0.333333  -76.666667   \n",
       "2             78.240000         0.333333     0.333333  117.666667   \n",
       "3             64.890000         0.333333     0.333333 -117.666667   \n",
       "4             47.893333         0.000000     1.000000   12.000000   \n",
       "\n",
       "   amount_collected_diff  amount_collected_big_pads_diff  \\\n",
       "0             355.000000                      423.666667   \n",
       "1            -355.000000                     -423.666667   \n",
       "2             635.666667                      112.333333   \n",
       "3            -635.666667                     -112.333333   \n",
       "4              81.666667                        9.000000   \n",
       "\n",
       "   amount_collected_small_pads_diff  count_collected_big_pads_diff  \\\n",
       "0                        -68.666667                       7.333333   \n",
       "1                         68.666667                      -7.333333   \n",
       "2                        523.333333                       2.000000   \n",
       "3                       -523.333333                      -2.000000   \n",
       "4                         72.666667                       1.000000   \n",
       "\n",
       "   count_collected_small_pads_diff  amount_stolen_diff  \\\n",
       "0                             -6.0         -232.333333   \n",
       "1                              6.0          232.333333   \n",
       "2                             16.0          132.333333   \n",
       "3                            -16.0         -132.333333   \n",
       "4                              3.0          -53.000000   \n",
       "\n",
       "   amount_stolen_big_pads_diff  amount_stolen_small_pads_diff  \\\n",
       "0                   -42.666667                    -189.666667   \n",
       "1                    42.666667                     189.666667   \n",
       "2                     8.333333                     124.000000   \n",
       "3                    -8.333333                    -124.000000   \n",
       "4                   -47.000000                      -6.000000   \n",
       "\n",
       "   count_stolen_big_pads_diff  count_stolen_small_pads_diff  \\\n",
       "0                   -2.333333                     -8.666667   \n",
       "1                    2.333333                      8.666667   \n",
       "2                   -1.000000                      3.666667   \n",
       "3                    1.000000                     -3.666667   \n",
       "4                    0.333333                     -1.333333   \n",
       "\n",
       "   0_boost_time_diff  avg_speed_diff  total_distance_diff  \\\n",
       "0           1.760000      122.333333         43895.666667   \n",
       "1          -1.760000     -122.333333        -43895.666667   \n",
       "2          18.090000      157.666667         54258.000000   \n",
       "3         -18.090000     -157.666667        -54258.000000   \n",
       "4         -20.193333      -10.000000         -7954.666667   \n",
       "\n",
       "   time_slow_speed_diff  time_boost_speed_diff  time_supersonic_speed_diff  \\\n",
       "0            -38.663333              17.256667                   21.443333   \n",
       "1             38.663333             -17.256667                  -21.443333   \n",
       "2            -42.186667              17.320000                   24.766667   \n",
       "3             42.186667             -17.320000                  -24.766667   \n",
       "4              3.176667             -12.953333                    6.370000   \n",
       "\n",
       "   time_on_ground_diff  time_low_in_air_diff  time_high_in_air_diff  \\\n",
       "0           -18.923333             12.983333               5.976667   \n",
       "1            18.923333            -12.983333              -5.976667   \n",
       "2           -14.363333             16.350000              -2.093333   \n",
       "3            14.363333            -16.350000               2.093333   \n",
       "4            -6.830000             -0.410000               3.826667   \n",
       "\n",
       "   avg_distance_to_ball_diff  avg_distance_to_ball_has_possession_diff  \\\n",
       "0                      269.0                                125.666667   \n",
       "1                     -269.0                               -125.666667   \n",
       "2                     -479.0                               -833.333333   \n",
       "3                      479.0                                833.333333   \n",
       "4                       40.0                                -43.333333   \n",
       "\n",
       "   avg_distance_to_ball_no_possession_diff  time_behind_ball_diff  \\\n",
       "0                               469.333333              23.036667   \n",
       "1                              -469.333333             -23.036667   \n",
       "2                               -97.333333             -25.236667   \n",
       "3                                97.333333              25.236667   \n",
       "4                               133.666667             -32.450000   \n",
       "\n",
       "   time_in_front_of_ball_diff  time_defensive_half_diff  \\\n",
       "0                  -23.000000                -43.770000   \n",
       "1                   23.000000                 43.770000   \n",
       "2                   25.130000                -18.726667   \n",
       "3                  -25.130000                 18.726667   \n",
       "4                   29.043333                 21.250000   \n",
       "\n",
       "   time_offensive_half_diff  time_defensive_third_diff  \\\n",
       "0                 43.810000                     -45.39   \n",
       "1                -43.810000                      45.39   \n",
       "2                 18.626667                     -15.15   \n",
       "3                -18.626667                      15.15   \n",
       "4                -24.660000                      22.73   \n",
       "\n",
       "   time_neutral_third_diff  time_offensive_third_diff  demos_inflicted_diff  \n",
       "0                     0.35                  45.073333                   0.0  \n",
       "1                    -0.35                 -45.073333                   0.0  \n",
       "2                     1.69                  13.350000                   0.0  \n",
       "3                    -1.69                 -13.350000                   0.0  \n",
       "4                   -13.25                 -12.890000                  -1.0  "
      ]
     },
     "execution_count": 34,
     "metadata": {},
     "output_type": "execute_result"
    }
   ],
   "source": [
    "X.head()"
   ]
  },
  {
   "cell_type": "code",
   "execution_count": 35,
   "metadata": {},
   "outputs": [
    {
     "data": {
      "text/plain": [
       "0    1\n",
       "1    0\n",
       "2    0\n",
       "3    1\n",
       "4    0\n",
       "Name: win, dtype: int64"
      ]
     },
     "execution_count": 35,
     "metadata": {},
     "output_type": "execute_result"
    }
   ],
   "source": [
    "y.head()"
   ]
  },
  {
   "cell_type": "code",
   "execution_count": 36,
   "metadata": {},
   "outputs": [],
   "source": [
    "scaler = StandardScaler().fit(X)"
   ]
  },
  {
   "cell_type": "code",
   "execution_count": 37,
   "metadata": {},
   "outputs": [],
   "source": [
    "X[X.columns] = scaler.transform(X)"
   ]
  },
  {
   "cell_type": "code",
   "execution_count": 38,
   "metadata": {},
   "outputs": [],
   "source": [
    "y = y.values"
   ]
  },
  {
   "cell_type": "code",
   "execution_count": 39,
   "metadata": {},
   "outputs": [],
   "source": [
    "X_train, X_test, y_train, y_test = train_test_split(X, y, test_size=0.2, random_state=10)"
   ]
  },
  {
   "cell_type": "code",
   "execution_count": 40,
   "metadata": {},
   "outputs": [
    {
     "data": {
      "text/plain": [
       "(3783, 67)"
      ]
     },
     "execution_count": 40,
     "metadata": {},
     "output_type": "execute_result"
    }
   ],
   "source": [
    "X_test.shape"
   ]
  },
  {
   "cell_type": "code",
   "execution_count": 10,
   "metadata": {},
   "outputs": [
    {
     "name": "stdout",
     "output_type": "stream",
     "text": [
      "0.4047052187786143\n"
     ]
    }
   ],
   "source": [
    "# Random Forest Classifier\n",
    "\n",
    "rand_forest_clf = RandomForestClassifier(n_estimators=100)\n",
    "rand_forest_clf = rand_forest_clf.fit(X_train, y_train)\n",
    "rand_forest_predictions = cross_val_predict(rand_forest_clf, X_test, y_test, cv=6)\n",
    "rand_forest_accuracy = r2_score(y_test, rand_forest_predictions)\n",
    "print(rand_forest_accuracy)"
   ]
  },
  {
   "cell_type": "code",
   "execution_count": 11,
   "metadata": {},
   "outputs": [
    {
     "name": "stdout",
     "output_type": "stream",
     "text": [
      "0.529473929585228\n"
     ]
    }
   ],
   "source": [
    "# XGBoost Classifier\n",
    "\n",
    "xgbCla = XGBClassifier(n_jobs=4)\n",
    "xgbCla.fit(X_train, y_train, verbose=True)\n",
    "\n",
    "xgb_predictions = cross_val_predict(xgbCla, X_test, y_test, cv=6)\n",
    "xgb_accuracy = r2_score(y_test, xgb_predictions)\n",
    "print(xgb_accuracy)   #r^2"
   ]
  },
  {
   "cell_type": "code",
   "execution_count": 12,
   "metadata": {},
   "outputs": [
    {
     "name": "stderr",
     "output_type": "stream",
     "text": [
      "/home/max/anaconda3/envs/Machine_Learning/lib/python3.6/site-packages/sklearn/svm/base.py:922: ConvergenceWarning: Liblinear failed to converge, increase the number of iterations.\n",
      "  \"the number of iterations.\", ConvergenceWarning)\n",
      "/home/max/anaconda3/envs/Machine_Learning/lib/python3.6/site-packages/sklearn/svm/base.py:922: ConvergenceWarning: Liblinear failed to converge, increase the number of iterations.\n",
      "  \"the number of iterations.\", ConvergenceWarning)\n",
      "/home/max/anaconda3/envs/Machine_Learning/lib/python3.6/site-packages/sklearn/svm/base.py:922: ConvergenceWarning: Liblinear failed to converge, increase the number of iterations.\n",
      "  \"the number of iterations.\", ConvergenceWarning)\n",
      "/home/max/anaconda3/envs/Machine_Learning/lib/python3.6/site-packages/sklearn/svm/base.py:922: ConvergenceWarning: Liblinear failed to converge, increase the number of iterations.\n",
      "  \"the number of iterations.\", ConvergenceWarning)\n",
      "/home/max/anaconda3/envs/Machine_Learning/lib/python3.6/site-packages/sklearn/svm/base.py:922: ConvergenceWarning: Liblinear failed to converge, increase the number of iterations.\n",
      "  \"the number of iterations.\", ConvergenceWarning)\n",
      "/home/max/anaconda3/envs/Machine_Learning/lib/python3.6/site-packages/sklearn/svm/base.py:922: ConvergenceWarning: Liblinear failed to converge, increase the number of iterations.\n",
      "  \"the number of iterations.\", ConvergenceWarning)\n"
     ]
    },
    {
     "name": "stdout",
     "output_type": "stream",
     "text": [
      "0.6478984686559122\n"
     ]
    },
    {
     "name": "stderr",
     "output_type": "stream",
     "text": [
      "/home/max/anaconda3/envs/Machine_Learning/lib/python3.6/site-packages/sklearn/svm/base.py:922: ConvergenceWarning: Liblinear failed to converge, increase the number of iterations.\n",
      "  \"the number of iterations.\", ConvergenceWarning)\n"
     ]
    }
   ],
   "source": [
    "# Linear SVC Classifier\n",
    "\n",
    "linear_svc_clf = LinearSVC(random_state=0, tol=1e-5, max_iter=2000)\n",
    "linear_svc_clf.fit(X_train, y_train)\n",
    "\n",
    "linear_svc_predictions = cross_val_predict(linear_svc_clf, X_test, y_test, cv=6)\n",
    "linear_svc_accuracy = r2_score(y_test, linear_svc_predictions)\n",
    "print(linear_svc_accuracy) "
   ]
  },
  {
   "cell_type": "code",
   "execution_count": 13,
   "metadata": {},
   "outputs": [
    {
     "name": "stderr",
     "output_type": "stream",
     "text": [
      "/home/max/anaconda3/envs/Machine_Learning/lib/python3.6/site-packages/sklearn/svm/base.py:196: FutureWarning: The default value of gamma will change from 'auto' to 'scale' in version 0.22 to account better for unscaled features. Set gamma explicitly to 'auto' or 'scale' to avoid this warning.\n",
      "  \"avoid this warning.\", FutureWarning)\n",
      "/home/max/anaconda3/envs/Machine_Learning/lib/python3.6/site-packages/sklearn/svm/base.py:196: FutureWarning: The default value of gamma will change from 'auto' to 'scale' in version 0.22 to account better for unscaled features. Set gamma explicitly to 'auto' or 'scale' to avoid this warning.\n",
      "  \"avoid this warning.\", FutureWarning)\n",
      "/home/max/anaconda3/envs/Machine_Learning/lib/python3.6/site-packages/sklearn/svm/base.py:196: FutureWarning: The default value of gamma will change from 'auto' to 'scale' in version 0.22 to account better for unscaled features. Set gamma explicitly to 'auto' or 'scale' to avoid this warning.\n",
      "  \"avoid this warning.\", FutureWarning)\n",
      "/home/max/anaconda3/envs/Machine_Learning/lib/python3.6/site-packages/sklearn/svm/base.py:196: FutureWarning: The default value of gamma will change from 'auto' to 'scale' in version 0.22 to account better for unscaled features. Set gamma explicitly to 'auto' or 'scale' to avoid this warning.\n",
      "  \"avoid this warning.\", FutureWarning)\n",
      "/home/max/anaconda3/envs/Machine_Learning/lib/python3.6/site-packages/sklearn/svm/base.py:196: FutureWarning: The default value of gamma will change from 'auto' to 'scale' in version 0.22 to account better for unscaled features. Set gamma explicitly to 'auto' or 'scale' to avoid this warning.\n",
      "  \"avoid this warning.\", FutureWarning)\n",
      "/home/max/anaconda3/envs/Machine_Learning/lib/python3.6/site-packages/sklearn/svm/base.py:196: FutureWarning: The default value of gamma will change from 'auto' to 'scale' in version 0.22 to account better for unscaled features. Set gamma explicitly to 'auto' or 'scale' to avoid this warning.\n",
      "  \"avoid this warning.\", FutureWarning)\n",
      "/home/max/anaconda3/envs/Machine_Learning/lib/python3.6/site-packages/sklearn/svm/base.py:196: FutureWarning: The default value of gamma will change from 'auto' to 'scale' in version 0.22 to account better for unscaled features. Set gamma explicitly to 'auto' or 'scale' to avoid this warning.\n",
      "  \"avoid this warning.\", FutureWarning)\n"
     ]
    },
    {
     "name": "stdout",
     "output_type": "stream",
     "text": [
      "0.5072693285094747\n"
     ]
    }
   ],
   "source": [
    "# SVC Classifier\n",
    "\n",
    "svc_clf = SVC(random_state=0, tol=1e-5)\n",
    "svc_clf.fit(X_train, y_train)\n",
    "\n",
    "svc_predictions = cross_val_predict(svc_clf, X_test, y_test, cv=6)\n",
    "svc_accuracy = r2_score(y_test, svc_predictions)\n",
    "print(svc_accuracy) "
   ]
  },
  {
   "cell_type": "code",
   "execution_count": 14,
   "metadata": {},
   "outputs": [],
   "source": [
    "# K Nearest Neighbors Classifier\n",
    "\n",
    "knn_tests_df = pd.DataFrame(columns=['accuracy'])\n",
    "for i in range(1, 300, 2):\n",
    "    knn_clf = KNeighborsClassifier(n_neighbors=i, n_jobs=4)\n",
    "    knn_clf.fit(X_train, y_train)\n",
    "\n",
    "    knn_predictions = cross_val_predict(knn_clf, X_test, y_test, cv=6)\n",
    "    knn_accuracy = r2_score(y_test, knn_predictions)\n",
    "    knn_tests_df.at[i] = [knn_accuracy]"
   ]
  },
  {
   "cell_type": "code",
   "execution_count": 15,
   "metadata": {},
   "outputs": [
    {
     "data": {
      "text/plain": [
       "<matplotlib.axes._subplots.AxesSubplot at 0x7f0b3cf2e978>"
      ]
     },
     "execution_count": 15,
     "metadata": {},
     "output_type": "execute_result"
    },
    {
     "data": {
      "image/png": "[encoded data removed]",
      "text/plain": [
       "<Figure size 432x288 with 1 Axes>"
      ]
     },
     "metadata": {
      "needs_background": "light"
     },
     "output_type": "display_data"
    }
   ],
   "source": [
    "sns.lineplot(data=knn_tests_df['accuracy'])"
   ]
  },
  {
   "cell_type": "code",
   "execution_count": 16,
   "metadata": {},
   "outputs": [
    {
     "name": "stdout",
     "output_type": "stream",
     "text": [
      "0.6457837447439356\n"
     ]
    }
   ],
   "source": [
    "# Logistic Regressor (Classifier)\n",
    "\n",
    "log_reg_clf = LogisticRegression(random_state=0, solver='liblinear', max_iter=2000)\n",
    "log_reg_clf.fit(X_train, y_train)\n",
    "\n",
    "log_reg_predictions = cross_val_predict(log_reg_clf, X_test, y_test, cv=6)\n",
    "log_reg_accuracy = r2_score(y_test, log_reg_predictions)\n",
    "print(log_reg_accuracy) "
   ]
  },
  {
   "cell_type": "code",
   "execution_count": 17,
   "metadata": {},
   "outputs": [
    {
     "name": "stdout",
     "output_type": "stream",
     "text": [
      "Scores:\n",
      "Logistic Regression:      0.6457837447439356\n",
      "Linear SVC:               0.6478984686559122\n",
      "XGBoost Classifier:       0.529473929585228\n",
      "Random Forest Classifier: 0.4047052187786143\n",
      "K Nearset Neighbors:      0.2038064471408465\n"
     ]
    }
   ],
   "source": [
    "print('Scores:')\n",
    "print('Logistic Regression:     ', log_reg_accuracy)\n",
    "print('Linear SVC:              ', linear_svc_accuracy)\n",
    "print('XGBoost Classifier:      ', xgb_accuracy)\n",
    "print('Random Forest Classifier:', rand_forest_accuracy)\n",
    "print('K Nearset Neighbors:     ', knn_tests_df.at[51, 'accuracy'])"
   ]
  },
  {
   "cell_type": "code",
   "execution_count": 18,
   "metadata": {},
   "outputs": [
    {
     "data": {
      "image/png": "[encoded data removed]",
      "text/plain": [
       "<Figure size 1080x1080 with 1 Axes>"
      ]
     },
     "metadata": {
      "needs_background": "light"
     },
     "output_type": "display_data"
    }
   ],
   "source": [
    "fig, ax = plt.subplots(figsize=(15, 15))\n",
    "imp_plt = plot_importance(xgbCla, ax=ax)"
   ]
  },
  {
   "cell_type": "code",
   "execution_count": 41,
   "metadata": {},
   "outputs": [],
   "source": [
    "# 1's\n",
    "X_train_temp = X_train.drop(['shots', 'time_neutral_third', 'time_defensive_third_diff', \n",
    "             'avg_distance_to_ball_diff', 'time_supersonic_speed_diff',\n",
    "             'avg_speed', 'bpm', 'time_offensive_half', 'count_collected_big_pads_diff',\n",
    "             'time_boost_speed_diff', 'amount_stolen_big_pads_diff', 'count_collected_big_pads',\n",
    "             'count_collected_small_pads_diff', 'demos_inflicted', 'time_in_front_of_ball_diff',\n",
    "             'time_offensive_third_diff'], axis=1)\n",
    "\n",
    "X_test_temp = X_test.drop(['shots', 'time_neutral_third', 'time_defensive_third_diff', \n",
    "             'avg_distance_to_ball_diff', 'time_supersonic_speed_diff',\n",
    "             'avg_speed', 'bpm', 'time_offensive_half', 'count_collected_big_pads_diff',\n",
    "             'time_boost_speed_diff', 'amount_stolen_big_pads_diff', 'count_collected_big_pads',\n",
    "             'count_collected_small_pads_diff', 'demos_inflicted', 'time_in_front_of_ball_diff',\n",
    "             'time_offensive_third_diff'], axis=1)"
   ]
  },
  {
   "cell_type": "code",
   "execution_count": 42,
   "metadata": {},
   "outputs": [
    {
     "name": "stdout",
     "output_type": "stream",
     "text": [
      "0.6457837447439356\n"
     ]
    }
   ],
   "source": [
    "log_reg_clf = LogisticRegression(random_state=0, solver='liblinear', max_iter=2000)\n",
    "log_reg_clf.fit(X_train_temp, y_train)\n",
    "\n",
    "log_reg_predictions = cross_val_predict(log_reg_clf, X_test, y_test, cv=6)\n",
    "log_reg_accuracy = r2_score(y_test, log_reg_predictions)\n",
    "print(log_reg_accuracy) "
   ]
  },
  {
   "cell_type": "code",
   "execution_count": 43,
   "metadata": {},
   "outputs": [],
   "source": [
    "# 2's\n",
    "X_train_temp = X_train_temp.drop(['amount_collected_big_pads', 'time_supersonic_speed',\n",
    "             'count_stolen_small_pads_diff', 'amount_stolen_diff', '0_boost_time_diff',\n",
    "             'time_high_in_air', 'amount_stolen_big_pads',\n",
    "             'avg_distance_to_ball_has_possession', 'time_offensive_half_diff'], axis=1)\n",
    "\n",
    "X_test_temp = X_test_temp.drop(['amount_collected_big_pads', 'time_supersonic_speed',\n",
    "             'count_stolen_small_pads_diff', 'amount_stolen_diff', '0_boost_time_diff',\n",
    "             'time_high_in_air', 'amount_stolen_big_pads',\n",
    "             'avg_distance_to_ball_has_possession', 'time_offensive_half_diff'], axis=1)"
   ]
  },
  {
   "cell_type": "code",
   "execution_count": 44,
   "metadata": {},
   "outputs": [
    {
     "name": "stdout",
     "output_type": "stream",
     "text": [
      "0.6457837447439356\n"
     ]
    }
   ],
   "source": [
    "log_reg_clf = LogisticRegression(random_state=0, solver='liblinear', max_iter=2000)\n",
    "log_reg_clf.fit(X_train_temp, y_train)\n",
    "\n",
    "log_reg_predictions = cross_val_predict(log_reg_clf, X_test, y_test, cv=6)\n",
    "log_reg_accuracy = r2_score(y_test, log_reg_predictions)\n",
    "print(log_reg_accuracy) "
   ]
  },
  {
   "cell_type": "code",
   "execution_count": 45,
   "metadata": {},
   "outputs": [],
   "source": [
    "# 3's\n",
    "X_train_temp = X_train_temp.drop(['0_boost_time', 'time_offensive_third', 'avg_distance_to_ball',\n",
    "             'avg_speed_diff', 'time_defensive_half_diff'], axis=1)\n",
    "\n",
    "X_test_temp = X_test_temp.drop(['0_boost_time', 'time_offensive_third', 'avg_distance_to_ball',\n",
    "             'avg_speed_diff', 'time_defensive_half_diff'], axis=1)"
   ]
  },
  {
   "cell_type": "code",
   "execution_count": 46,
   "metadata": {},
   "outputs": [
    {
     "name": "stdout",
     "output_type": "stream",
     "text": [
      "0.6457837447439356\n"
     ]
    }
   ],
   "source": [
    "log_reg_clf = LogisticRegression(random_state=0, solver='liblinear', max_iter=2000)\n",
    "log_reg_clf.fit(X_train_temp, y_train)\n",
    "\n",
    "log_reg_predictions = cross_val_predict(log_reg_clf, X_test, y_test, cv=6)\n",
    "log_reg_accuracy = r2_score(y_test, log_reg_predictions)\n",
    "print(log_reg_accuracy) "
   ]
  },
  {
   "cell_type": "code",
   "execution_count": 47,
   "metadata": {},
   "outputs": [
    {
     "data": {
      "text/plain": [
       "(15131, 37)"
      ]
     },
     "execution_count": 47,
     "metadata": {},
     "output_type": "execute_result"
    }
   ],
   "source": [
    "X_train_temp.shape"
   ]
  },
  {
   "cell_type": "code",
   "execution_count": 49,
   "metadata": {},
   "outputs": [],
   "source": [
    "X_train = X_train[['score', 'game_duration', 'time_behind_ball_diff',\n",
    "                        'saves', 'time_in_front_of_ball', 'time_defensive_half',\n",
    "                        'time_on_ground', 'total_distance', 'time_low_in_air',\n",
    "                        'time_neutral_third_diff', 'time_high_in_air_diff',\n",
    "                        'time_defensive_third', 'avg_distance_to_ball_has_possession_diff',\n",
    "                        'time_slow_speed', 'avg_distance_to_ball_no_possession',\n",
    "                        'total_distance_diff', 'amount_collected_diff', 'time_behind_ball']]\n",
    "\n",
    "X_test = X_test[['score', 'game_duration', 'time_behind_ball_diff',\n",
    "                        'saves', 'time_in_front_of_ball', 'time_defensive_half',\n",
    "                        'time_on_ground', 'total_distance', 'time_low_in_air',\n",
    "                        'time_neutral_third_diff', 'time_high_in_air_diff',\n",
    "                        'time_defensive_third', 'avg_distance_to_ball_has_possession_diff',\n",
    "                        'time_slow_speed', 'avg_distance_to_ball_no_possession',\n",
    "                        'total_distance_diff', 'amount_collected_diff', 'time_behind_ball']]"
   ]
  },
  {
   "cell_type": "code",
   "execution_count": 50,
   "metadata": {},
   "outputs": [
    {
     "name": "stdout",
     "output_type": "stream",
     "text": [
      "0.6426116588759709\n"
     ]
    }
   ],
   "source": [
    "log_reg_clf = LogisticRegression(random_state=0, solver='liblinear', max_iter=2000)\n",
    "log_reg_clf.fit(X_train, y_train)\n",
    "\n",
    "log_reg_predictions = cross_val_predict(log_reg_clf, X_test, y_test, cv=6)\n",
    "log_reg_accuracy = r2_score(y_test, log_reg_predictions)\n",
    "print(log_reg_accuracy) "
   ]
  },
  {
   "cell_type": "code",
   "execution_count": 51,
   "metadata": {},
   "outputs": [
    {
     "data": {
      "text/plain": [
       "(15131, 18)"
      ]
     },
     "execution_count": 51,
     "metadata": {},
     "output_type": "execute_result"
    }
   ],
   "source": [
    "X_train.shape"
   ]
  },
  {
   "cell_type": "raw",
   "metadata": {},
   "source": [
    "As you can see, you get a nearly identical r^2 score with 18 features as with 67 features.\n",
    "Doing this allows you to iterate faster due to lower training times."
   ]
  },
  {
   "cell_type": "code",
   "execution_count": 52,
   "metadata": {},
   "outputs": [],
   "source": [
    "# export to load in script for easier nueral network testing\n",
    "\n",
    "X_train.to_hdf('ML_data/champ_X_train.h5', 'X_train')\n",
    "X_test.to_hdf('ML_data/champ_X_test.h5', 'X_test')\n",
    "\n",
    "y_train = pd.DataFrame(y_train)\n",
    "y_test = pd.DataFrame(y_test)\n",
    "y_train.to_hdf('ML_data/champ_y_train.h5', 'y_train')\n",
    "y_test.to_hdf('ML_data/champ_y_test.h5', 'y_test')"
   ]
  },
  {
   "cell_type": "code",
   "execution_count": 71,
   "metadata": {},
   "outputs": [
    {
     "name": "stdout",
     "output_type": "stream",
     "text": [
      "0.741250950959389\n"
     ]
    }
   ],
   "source": [
    "ann = load_model('RL_neural.h5')\n",
    "\n",
    "y_pred = ann.predict(X_test)\n",
    "ann_accuracy = r2_score(y_test, y_pred)\n",
    "print(ann_accuracy)\n",
    "\n",
    "y_pred_rounded = pd.DataFrame(y_pred)\n",
    "y_pred_rounded = y_pred_rounded.round()"
   ]
  },
  {
   "cell_type": "raw",
   "metadata": {},
   "source": [
    "In this case, a basic (first iteration) neural network with only 10 epochs outperformed logistic regression by almost 10%."
   ]
  }
 ],
 "metadata": {
  "kernelspec": {
   "display_name": "Python 3",
   "language": "python",
   "name": "python3"
  },
  "language_info": {
   "codemirror_mode": {
    "name": "ipython",
    "version": 3
   },
   "file_extension": ".py",
   "mimetype": "text/x-python",
   "name": "python",
   "nbconvert_exporter": "python",
   "pygments_lexer": "ipython3",
   "version": "3.6.8"
  }
 },
 "nbformat": 4,
 "nbformat_minor": 2
}
